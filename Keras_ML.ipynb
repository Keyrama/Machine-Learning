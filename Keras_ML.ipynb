{
  "nbformat": 4,
  "nbformat_minor": 0,
  "metadata": {
    "colab": {
      "provenance": [],
      "gpuType": "T4",
      "include_colab_link": true
    },
    "kernelspec": {
      "name": "python3",
      "display_name": "Python 3"
    },
    "language_info": {
      "name": "python"
    },
    "accelerator": "GPU"
  },
  "cells": [
    {
      "cell_type": "markdown",
      "metadata": {
        "id": "view-in-github",
        "colab_type": "text"
      },
      "source": [
        "<a href=\"https://colab.research.google.com/github/Keyrama/Machine-Learning/blob/main/Keras_ML.ipynb\" target=\"_parent\"><img src=\"https://colab.research.google.com/assets/colab-badge.svg\" alt=\"Open In Colab\"/></a>"
      ]
    },
    {
      "cell_type": "code",
      "execution_count": 153,
      "metadata": {
        "colab": {
          "base_uri": "https://localhost:8080/"
        },
        "id": "4ZIx2aXuphog",
        "outputId": "7f74bc26-92d7-41d3-a36d-54e9fe6824f4"
      },
      "outputs": [
        {
          "output_type": "stream",
          "name": "stdout",
          "text": [
            "TensorFlow version: 2.17.0\n"
          ]
        }
      ],
      "source": [
        "import tensorflow as tf\n",
        "from sklearn.model_selection import train_test_split\n",
        "import matplotlib.pyplot as plt\n",
        "print(\"TensorFlow version:\", tf.__version__)"
      ]
    },
    {
      "cell_type": "code",
      "source": [
        "mnist = tf.keras.datasets.mnist\n",
        "\n",
        "(x_train, y_train), (x_test, y_test) = mnist.load_data()\n",
        "x_train, x_test = x_train / 255.0, x_test / 255.0\n",
        "x_train, x_valid, y_train, y_valid = train_test_split(x_train, y_train, test_size=0.88333, random_state=42)\n",
        "\n",
        "print(f'Training set: {x_train.shape}, {y_train.shape}')\n",
        "print(f'Validation set: {x_valid.shape}, {y_valid.shape}')\n",
        "print(f'Test set: {x_test.shape}, {y_test.shape}')"
      ],
      "metadata": {
        "id": "VSeza8i8qCFa",
        "outputId": "c252cff7-5d7f-46fd-d566-01ddee0b7b94",
        "colab": {
          "base_uri": "https://localhost:8080/"
        }
      },
      "execution_count": 154,
      "outputs": [
        {
          "output_type": "stream",
          "name": "stdout",
          "text": [
            "Training set: (7000, 28, 28), (7000,)\n",
            "Validation set: (53000, 28, 28), (53000,)\n",
            "Test set: (10000, 28, 28), (10000,)\n"
          ]
        }
      ]
    },
    {
      "cell_type": "code",
      "source": [
        "model = tf.keras.models.Sequential([\n",
        "  tf.keras.layers.Flatten(input_shape=(28, 28)),\n",
        "  tf.keras.layers.Dense(128, activation='relu'),\n",
        "  tf.keras.layers.Dropout(0.2),\n",
        "  tf.keras.layers.Dense(64, activation='relu'),\n",
        "  tf.keras.layers.Dropout(0.2),\n",
        "  tf.keras.layers.Dense(32, activation='relu'),\n",
        "  tf.keras.layers.Dropout(0.2),\n",
        "  tf.keras.layers.Dense(10, activation=\"softmax\")\n",
        "])"
      ],
      "metadata": {
        "id": "BXt1wAWlqvEy"
      },
      "execution_count": 155,
      "outputs": []
    },
    {
      "cell_type": "code",
      "source": [
        "#predictions = model(x_train[:1]).numpy()\n",
        "#predictions"
      ],
      "metadata": {
        "id": "CcitjfGDqwBt"
      },
      "execution_count": 156,
      "outputs": []
    },
    {
      "cell_type": "code",
      "source": [
        "#tf.nn.softmax(predictions).numpy()"
      ],
      "metadata": {
        "id": "scwuRwp_qwPt"
      },
      "execution_count": 157,
      "outputs": []
    },
    {
      "cell_type": "code",
      "source": [
        "#loss_fn = tf.keras.losses.SparseCategoricalCrossentropy(from_logits=True)\n",
        "#loss_fn(y_train[:1], predictions).numpy()\n",
        "model.compile(loss=\"sparse_categorical_crossentropy\", optimizer=tf.keras.optimizers.Adam(), metrics=['accuracy'])\n",
        "history = model.fit(x_train, y_train, epochs=10,\n",
        "                                          validation_data=(x_valid, y_valid))\n"
      ],
      "metadata": {
        "id": "w80XQFdGqwcV",
        "colab": {
          "base_uri": "https://localhost:8080/"
        },
        "outputId": "3d07ffff-fb72-477b-d6bd-61caabaf620b"
      },
      "execution_count": 158,
      "outputs": [
        {
          "output_type": "stream",
          "name": "stdout",
          "text": [
            "Epoch 1/10\n",
            "\u001b[1m219/219\u001b[0m \u001b[32m━━━━━━━━━━━━━━━━━━━━\u001b[0m\u001b[37m\u001b[0m \u001b[1m12s\u001b[0m 43ms/step - accuracy: 0.4764 - loss: 1.5446 - val_accuracy: 0.8793 - val_loss: 0.4192\n",
            "Epoch 2/10\n",
            "\u001b[1m219/219\u001b[0m \u001b[32m━━━━━━━━━━━━━━━━━━━━\u001b[0m\u001b[37m\u001b[0m \u001b[1m3s\u001b[0m 11ms/step - accuracy: 0.8390 - loss: 0.5253 - val_accuracy: 0.9144 - val_loss: 0.2897\n",
            "Epoch 3/10\n",
            "\u001b[1m219/219\u001b[0m \u001b[32m━━━━━━━━━━━━━━━━━━━━\u001b[0m\u001b[37m\u001b[0m \u001b[1m3s\u001b[0m 13ms/step - accuracy: 0.8965 - loss: 0.3443 - val_accuracy: 0.9248 - val_loss: 0.2533\n",
            "Epoch 4/10\n",
            "\u001b[1m219/219\u001b[0m \u001b[32m━━━━━━━━━━━━━━━━━━━━\u001b[0m\u001b[37m\u001b[0m \u001b[1m6s\u001b[0m 25ms/step - accuracy: 0.9143 - loss: 0.2865 - val_accuracy: 0.9297 - val_loss: 0.2362\n",
            "Epoch 5/10\n",
            "\u001b[1m219/219\u001b[0m \u001b[32m━━━━━━━━━━━━━━━━━━━━\u001b[0m\u001b[37m\u001b[0m \u001b[1m7s\u001b[0m 12ms/step - accuracy: 0.9374 - loss: 0.2345 - val_accuracy: 0.9361 - val_loss: 0.2201\n",
            "Epoch 6/10\n",
            "\u001b[1m219/219\u001b[0m \u001b[32m━━━━━━━━━━━━━━━━━━━━\u001b[0m\u001b[37m\u001b[0m \u001b[1m6s\u001b[0m 25ms/step - accuracy: 0.9427 - loss: 0.1946 - val_accuracy: 0.9404 - val_loss: 0.2116\n",
            "Epoch 7/10\n",
            "\u001b[1m219/219\u001b[0m \u001b[32m━━━━━━━━━━━━━━━━━━━━\u001b[0m\u001b[37m\u001b[0m \u001b[1m3s\u001b[0m 13ms/step - accuracy: 0.9461 - loss: 0.1778 - val_accuracy: 0.9426 - val_loss: 0.2099\n",
            "Epoch 8/10\n",
            "\u001b[1m219/219\u001b[0m \u001b[32m━━━━━━━━━━━━━━━━━━━━\u001b[0m\u001b[37m\u001b[0m \u001b[1m2s\u001b[0m 11ms/step - accuracy: 0.9605 - loss: 0.1399 - val_accuracy: 0.9439 - val_loss: 0.2053\n",
            "Epoch 9/10\n",
            "\u001b[1m219/219\u001b[0m \u001b[32m━━━━━━━━━━━━━━━━━━━━\u001b[0m\u001b[37m\u001b[0m \u001b[1m3s\u001b[0m 11ms/step - accuracy: 0.9669 - loss: 0.1191 - val_accuracy: 0.9452 - val_loss: 0.2091\n",
            "Epoch 10/10\n",
            "\u001b[1m219/219\u001b[0m \u001b[32m━━━━━━━━━━━━━━━━━━━━\u001b[0m\u001b[37m\u001b[0m \u001b[1m3s\u001b[0m 16ms/step - accuracy: 0.9676 - loss: 0.1179 - val_accuracy: 0.9449 - val_loss: 0.2193\n"
          ]
        }
      ]
    },
    {
      "cell_type": "code",
      "source": [
        "plt.plot(history.history['loss'], label='Train Loss')\n",
        "plt.plot(history.history['val_loss'], label='Validation Loss')\n",
        "plt.title('Loss')\n",
        "plt.xlabel('Epochs')\n",
        "plt.ylabel('Loss')\n",
        "plt.legend()"
      ],
      "metadata": {
        "colab": {
          "base_uri": "https://localhost:8080/",
          "height": 489
        },
        "id": "ff4D7R2SxptF",
        "outputId": "c6f7e41a-4979-4721-af53-2f3ceabc27ef"
      },
      "execution_count": 159,
      "outputs": [
        {
          "output_type": "execute_result",
          "data": {
            "text/plain": [
              "<matplotlib.legend.Legend at 0x7c0fc66b38e0>"
            ]
          },
          "metadata": {},
          "execution_count": 159
        },
        {
          "output_type": "display_data",
          "data": {
            "text/plain": [
              "<Figure size 640x480 with 1 Axes>"
            ],
            "image/png": "[encoded data removed]"
          },
          "metadata": {}
        }
      ]
    },
    {
      "cell_type": "code",
      "source": [
        "model.evaluate(x_test,  y_test, verbose=2)"
      ],
      "metadata": {
        "colab": {
          "base_uri": "https://localhost:8080/"
        },
        "id": "5kNwmir0rAiI",
        "outputId": "e3b0f19c-e07f-47f2-ed45-fe697bca45d5"
      },
      "execution_count": 160,
      "outputs": [
        {
          "output_type": "stream",
          "name": "stdout",
          "text": [
            "313/313 - 1s - 2ms/step - accuracy: 0.9460 - loss: 0.2019\n"
          ]
        },
        {
          "output_type": "execute_result",
          "data": {
            "text/plain": [
              "[0.20186221599578857, 0.9459999799728394]"
            ]
          },
          "metadata": {},
          "execution_count": 160
        }
      ]
    },
    {
      "cell_type": "code",
      "source": [
        "probability_model = tf.keras.Sequential([\n",
        "  model,\n",
        "  tf.keras.layers.Softmax()\n",
        "])"
      ],
      "metadata": {
        "id": "Z0ve_nCzrAsC"
      },
      "execution_count": 161,
      "outputs": []
    },
    {
      "cell_type": "code",
      "source": [
        "probability_model(x_test[:5])"
      ],
      "metadata": {
        "colab": {
          "base_uri": "https://localhost:8080/"
        },
        "id": "OFhLWPLbrFIr",
        "outputId": "cc6bdeb7-d91a-4f04-f949-01f8d1229c29"
      },
      "execution_count": 162,
      "outputs": [
        {
          "output_type": "execute_result",
          "data": {
            "text/plain": [
              "<tf.Tensor: shape=(5, 10), dtype=float32, numpy=\n",
              "array([[0.08533684, 0.08533691, 0.08533687, 0.08533686, 0.08533682,\n",
              "        0.08533681, 0.08533681, 0.23196821, 0.08533686, 0.08533696],\n",
              "       [0.08533856, 0.08533826, 0.23194923, 0.08534446, 0.08533804,\n",
              "        0.08533802, 0.08533817, 0.08533918, 0.08533806, 0.08533801],\n",
              "       [0.08533744, 0.23196039, 0.08533844, 0.08533835, 0.08533732,\n",
              "        0.08533733, 0.08533737, 0.08533792, 0.08533794, 0.08533757],\n",
              "       [0.23196927, 0.08533675, 0.08533676, 0.08533675, 0.08533675,\n",
              "        0.08533675, 0.08533675, 0.08533675, 0.08533675, 0.08533675],\n",
              "       [0.08535144, 0.08535108, 0.08535342, 0.08535115, 0.23174302,\n",
              "        0.08535273, 0.08535773, 0.08536771, 0.08535158, 0.08542021]],\n",
              "      dtype=float32)>"
            ]
          },
          "metadata": {},
          "execution_count": 162
        }
      ]
    }
  ]
}