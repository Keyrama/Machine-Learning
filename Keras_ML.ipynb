{
  "nbformat": 4,
  "nbformat_minor": 0,
  "metadata": {
    "colab": {
      "provenance": [],
      "gpuType": "T4",
      "include_colab_link": true
    },
    "kernelspec": {
      "name": "python3",
      "display_name": "Python 3"
    },
    "language_info": {
      "name": "python"
    },
    "accelerator": "GPU"
  },
  "cells": [
    {
      "cell_type": "markdown",
      "metadata": {
        "id": "view-in-github",
        "colab_type": "text"
      },
      "source": [
        "<a href=\"https://colab.research.google.com/github/Keyrama/Machine-Learning/blob/main/Keras_ML.ipynb\" target=\"_parent\"><img src=\"https://colab.research.google.com/assets/colab-badge.svg\" alt=\"Open In Colab\"/></a>"
      ]
    },
    {
      "cell_type": "code",
      "execution_count": 8,
      "metadata": {
        "colab": {
          "base_uri": "https://localhost:8080/"
        },
        "id": "4ZIx2aXuphog",
        "outputId": "b45e46a0-00e7-439b-c94a-6dd2f5bcc18e"
      },
      "outputs": [
        {
          "output_type": "stream",
          "name": "stdout",
          "text": [
            "TensorFlow version: 2.15.0\n"
          ]
        }
      ],
      "source": [
        "import tensorflow as tf\n",
        "from sklearn.model_selection import train_test_split\n",
        "import matplotlib.pyplot as plt\n",
        "print(\"TensorFlow version:\", tf.__version__)"
      ]
    },
    {
      "cell_type": "code",
      "source": [
        "mnist = tf.keras.datasets.mnist\n",
        "\n",
        "(x_train, y_train), (x_test, y_test) = mnist.load_data()\n",
        "x_train, x_test = x_train / 255.0, x_test / 255.0\n",
        "x_train, x_valid, y_train, y_valid = train_test_split(x_train, y_train, test_size=0.2, random_state=42)\n",
        "\n",
        "print(f'Training set: {x_train.shape}, {y_train.shape}')\n",
        "print(f'Validation set: {x_valid.shape}, {y_valid.shape}')\n",
        "print(f'Test set: {x_test.shape}, {y_test.shape}')"
      ],
      "metadata": {
        "id": "VSeza8i8qCFa",
        "outputId": "422e60bc-acfd-476e-da54-826c7ba6e72d",
        "colab": {
          "base_uri": "https://localhost:8080/"
        }
      },
      "execution_count": 19,
      "outputs": [
        {
          "output_type": "stream",
          "name": "stdout",
          "text": [
            "Training set: (48000, 28, 28), (48000,)\n",
            "Validation set: (12000, 28, 28), (12000,)\n",
            "Test set: (10000, 28, 28), (10000,)\n"
          ]
        }
      ]
    },
    {
      "cell_type": "code",
      "source": [
        "model = tf.keras.models.Sequential([\n",
        "  tf.keras.layers.Flatten(input_shape=(28, 28)),\n",
        "  tf.keras.layers.Dense(128, activation='relu'),\n",
        "  tf.keras.layers.Dropout(0.2),\n",
        "  tf.keras.layers.Dense(64, activation='relu'),\n",
        "  tf.keras.layers.Dropout(0.2),\n",
        "  tf.keras.layers.Dense(32, activation='relu'),\n",
        "  tf.keras.layers.Dropout(0.2),\n",
        "  tf.keras.layers.Dense(10, activation=\"softmax\")\n",
        "])"
      ],
      "metadata": {
        "id": "BXt1wAWlqvEy"
      },
      "execution_count": 7,
      "outputs": []
    },
    {
      "cell_type": "code",
      "source": [
        "predictions = model(x_train[:1]).numpy()\n",
        "predictions"
      ],
      "metadata": {
        "colab": {
          "base_uri": "https://localhost:8080/"
        },
        "id": "CcitjfGDqwBt",
        "outputId": "4ebd4d1e-b153-408e-bb18-27f1206de3b2"
      },
      "execution_count": null,
      "outputs": [
        {
          "output_type": "execute_result",
          "data": {
            "text/plain": [
              "array([[0.05530435, 0.10899866, 0.06259409, 0.08033098, 0.16927093,\n",
              "        0.06369355, 0.20416042, 0.11901479, 0.05913225, 0.07749998]],\n",
              "      dtype=float32)"
            ]
          },
          "metadata": {},
          "execution_count": 15
        }
      ]
    },
    {
      "cell_type": "code",
      "source": [
        "#tf.nn.softmax(predictions).numpy()"
      ],
      "metadata": {
        "colab": {
          "base_uri": "https://localhost:8080/"
        },
        "id": "scwuRwp_qwPt",
        "outputId": "94560ef0-cbc3-4c5b-8093-0dee712e6f4a"
      },
      "execution_count": null,
      "outputs": [
        {
          "output_type": "execute_result",
          "data": {
            "text/plain": [
              "array([[0.08408269, 0.06544694, 0.07365703, 0.15335064, 0.12709115,\n",
              "        0.10679632, 0.085416  , 0.0692711 , 0.0467931 , 0.188095  ]],\n",
              "      dtype=float32)"
            ]
          },
          "metadata": {},
          "execution_count": 5
        }
      ]
    },
    {
      "cell_type": "code",
      "source": [
        "#loss_fn = tf.keras.losses.SparseCategoricalCrossentropy(from_logits=True)\n",
        "#loss_fn(y_train[:1], predictions).numpy()\n",
        "model.compile(loss=\"mean_squared_error\", optimizer=tf.keras.optimizers.Adam(), metrics=['accuracy'])\n",
        "history = model.fit(x_train, y_train, epochs=10,\n",
        "                                          validation_data=(x_valid, y_valid))\n"
      ],
      "metadata": {
        "id": "w80XQFdGqwcV",
        "colab": {
          "base_uri": "https://localhost:8080/"
        },
        "outputId": "c7c61cb3-ca51-47a3-af9f-b14fa00539c8"
      },
      "execution_count": 18,
      "outputs": [
        {
          "output_type": "stream",
          "name": "stdout",
          "text": [
            "Epoch 1/10\n",
            "1500/1500 [==============================] - 7s 4ms/step - loss: 27.2608 - accuracy: 0.1029 - val_loss: 27.4796 - val_accuracy: 0.0981\n",
            "Epoch 2/10\n",
            "1500/1500 [==============================] - 5s 3ms/step - loss: 27.2608 - accuracy: 0.0976 - val_loss: 27.4796 - val_accuracy: 0.0978\n",
            "Epoch 3/10\n",
            "1500/1500 [==============================] - 6s 4ms/step - loss: 27.2608 - accuracy: 0.0977 - val_loss: 27.4796 - val_accuracy: 0.0979\n",
            "Epoch 4/10\n",
            "1500/1500 [==============================] - 5s 3ms/step - loss: 27.2608 - accuracy: 0.1011 - val_loss: 27.4796 - val_accuracy: 0.1082\n",
            "Epoch 5/10\n",
            "1500/1500 [==============================] - 6s 4ms/step - loss: 27.2608 - accuracy: 0.0984 - val_loss: 27.4796 - val_accuracy: 0.0920\n",
            "Epoch 6/10\n",
            "1500/1500 [==============================] - 5s 4ms/step - loss: 27.2608 - accuracy: 0.0997 - val_loss: 27.4796 - val_accuracy: 0.0978\n",
            "Epoch 7/10\n",
            "1500/1500 [==============================] - 5s 4ms/step - loss: 27.2608 - accuracy: 0.1008 - val_loss: 27.4796 - val_accuracy: 0.1082\n",
            "Epoch 8/10\n",
            "1500/1500 [==============================] - 6s 4ms/step - loss: 27.2608 - accuracy: 0.1023 - val_loss: 27.4796 - val_accuracy: 0.0967\n",
            "Epoch 9/10\n",
            "1500/1500 [==============================] - 5s 4ms/step - loss: 27.2608 - accuracy: 0.1003 - val_loss: 27.4796 - val_accuracy: 0.1082\n",
            "Epoch 10/10\n",
            "1500/1500 [==============================] - 6s 4ms/step - loss: 27.2608 - accuracy: 0.1011 - val_loss: 27.4796 - val_accuracy: 0.1016\n"
          ]
        }
      ]
    },
    {
      "cell_type": "code",
      "source": [
        "plt.plot(history.history['loss'], label='Train Loss')\n",
        "plt.plot(history.history['val_loss'], label='Validation Loss')\n",
        "plt.title('Loss')\n",
        "plt.xlabel('Epochs')\n",
        "plt.ylabel('Loss')\n",
        "plt.legend()"
      ],
      "metadata": {
        "colab": {
          "base_uri": "https://localhost:8080/",
          "height": 489
        },
        "id": "ff4D7R2SxptF",
        "outputId": "b5cd6561-a35a-40a1-b331-dea9a3dd336d"
      },
      "execution_count": 15,
      "outputs": [
        {
          "output_type": "execute_result",
          "data": {
            "text/plain": [
              "<matplotlib.legend.Legend at 0x7bc5ef36e680>"
            ]
          },
          "metadata": {},
          "execution_count": 15
        },
        {
          "output_type": "display_data",
          "data": {
            "text/plain": [
              "<Figure size 640x480 with 1 Axes>"
            ],
            "image/png": "[encoded data removed]"
          },
          "metadata": {}
        }
      ]
    },
    {
      "cell_type": "code",
      "source": [
        "model.evaluate(x_test,  y_test, verbose=2)"
      ],
      "metadata": {
        "colab": {
          "base_uri": "https://localhost:8080/"
        },
        "id": "5kNwmir0rAiI",
        "outputId": "27293fbe-e65c-4ffb-c5db-22e6ba407f7f"
      },
      "execution_count": null,
      "outputs": [
        {
          "output_type": "stream",
          "name": "stdout",
          "text": [
            "313/313 - 1s - loss: 0.0949 - accuracy: 0.9756 - 655ms/epoch - 2ms/step\n"
          ]
        },
        {
          "output_type": "execute_result",
          "data": {
            "text/plain": [
              "[0.09490399062633514, 0.975600004196167]"
            ]
          },
          "metadata": {},
          "execution_count": 18
        }
      ]
    },
    {
      "cell_type": "code",
      "source": [
        "probability_model = tf.keras.Sequential([\n",
        "  model,\n",
        "  tf.keras.layers.Softmax()\n",
        "])"
      ],
      "metadata": {
        "id": "Z0ve_nCzrAsC"
      },
      "execution_count": null,
      "outputs": []
    },
    {
      "cell_type": "code",
      "source": [
        "probability_model(x_test[:5])"
      ],
      "metadata": {
        "colab": {
          "base_uri": "https://localhost:8080/"
        },
        "id": "OFhLWPLbrFIr",
        "outputId": "2e353591-11d6-4b10-acd9-bf79a6e7fee0"
      },
      "execution_count": null,
      "outputs": [
        {
          "output_type": "execute_result",
          "data": {
            "text/plain": [
              "<tf.Tensor: shape=(5, 10), dtype=float32, numpy=\n",
              "array([[5.7214460e-09, 7.6927416e-11, 1.0732803e-05, 1.0105013e-05,\n",
              "        2.2069718e-12, 3.9153988e-08, 3.5882742e-15, 9.9997675e-01,\n",
              "        4.5757929e-08, 2.2919071e-06],\n",
              "       [8.5240544e-07, 5.5836822e-04, 9.9940407e-01, 2.5547057e-05,\n",
              "        8.4299959e-16, 1.0671995e-05, 2.2211642e-08, 6.8177174e-14,\n",
              "        4.2966900e-07, 3.9095338e-14],\n",
              "       [6.8845492e-07, 9.9816018e-01, 1.3507655e-04, 6.3714499e-05,\n",
              "        1.5371968e-05, 2.3644636e-05, 3.5243224e-06, 1.4324242e-03,\n",
              "        1.5368078e-04, 1.1641400e-05],\n",
              "       [9.9989009e-01, 2.0718325e-09, 3.9241073e-05, 5.9412411e-08,\n",
              "        8.1380023e-08, 1.6833837e-06, 3.7095542e-06, 9.6668837e-06,\n",
              "        4.3344990e-09, 5.5430901e-05],\n",
              "       [8.0219543e-06, 3.3126542e-09, 1.9479094e-06, 1.5980834e-07,\n",
              "        9.9481440e-01, 7.1228201e-06, 8.3044442e-06, 3.7509304e-05,\n",
              "        2.3482430e-06, 5.1202597e-03]], dtype=float32)>"
            ]
          },
          "metadata": {},
          "execution_count": 12
        }
      ]
    }
  ]
}